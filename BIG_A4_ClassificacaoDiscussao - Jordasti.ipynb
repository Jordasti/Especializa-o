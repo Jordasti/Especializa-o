{
  "nbformat": 4,
  "nbformat_minor": 0,
  "metadata": {
    "colab": {
      "name": "BIG_A4_ClassificacaoDiscussao.ipynb",
      "provenance": [],
      "collapsed_sections": [],
      "include_colab_link": true
    },
    "kernelspec": {
      "name": "python3",
      "display_name": "Python 3"
    }
  },
  "cells": [
    {
      "cell_type": "markdown",
      "metadata": {
        "id": "view-in-github",
        "colab_type": "text"
      },
      "source": [
        "<a href=\"https://colab.research.google.com/github/Jordasti/Especializa-o/blob/main/BIG_A4_ClassificacaoDiscussao%20-%20Jordasti.ipynb\" target=\"_parent\"><img src=\"https://colab.research.google.com/assets/colab-badge.svg\" alt=\"Open In Colab\"/></a>"
      ]
    },
    {
      "cell_type": "markdown",
      "metadata": {
        "id": "J3LMBfpeHTwb"
      },
      "source": [
        "<head>\n",
        "  <meta name=\"author\" content=\"Rogério de Oliveira\">\n",
        "  <meta institution=\"author\" content=\"Universidade Presbiteriana Mackenzie\">\n",
        "</head>\n",
        "\n",
        "<img src=\"http://meusite.mackenzie.br/rogerio/mackenzie_logo/UPM.2_horizontal_vermelho.jpg\" width=300, align=\"right\">\n",
        "<!-- <h1 align=left><font size = 6, style=\"color:rgb(200,0,0)\"> optional title </font></h1> -->\n"
      ]
    },
    {
      "cell_type": "markdown",
      "metadata": {
        "id": "zQX8WQPeHTwc"
      },
      "source": [
        "# **Tarefa de Aprofundamento 4** \n",
        "## Discussão do CASO: Controle de Qualidade de Peças de uma Indústria\n",
        "\n",
        "<br>\n",
        "<br>\n",
        "<br>\n",
        "\n",
        "Com base na atividade *Tarefa de Aprofundamento 3*, **Pesquise e Discuta apenas uma** das perguntas a seguir.\n"
      ]
    },
    {
      "cell_type": "markdown",
      "metadata": {
        "id": "nGZH-j05q8WZ"
      },
      "source": [
        "### 1. Na Tarefa de Aprofundamento 3 empregamos apenas a Acuracidade dos modelos como critério de seleção do melhor modelo. Dê um exemplo da limitação dessa abordagem e que solução você sugeriria para contornar essa limitação. "
      ]
    },
    {
      "cell_type": "markdown",
      "source": [
        "A acuracia mede as previsões corretas em relação a todas as previsões realizadas, dessa forma se tivermos um conjunto de dados não balanceados, ou seja, com a categoria alvo com menor ocorrencias e utilizarmos a acuracia como parametro podemos estar empregando um modelo não ideal para a situação, como por exemplo um conjunto de dados com apenas 10% de pessoas doentes e 90% de pessoas saudaveis. Dessa forma podemos dizer que a limitação da acuracia está empregada a termos um conjunto de dados balanceados. Uma solução para avaliação de um modelo em um caso de classificação de doentes, seria utilizar a metrica de recall pois os Falsos Negativos são considerados mais prejudiciais que os Falsos Positivos."
      ],
      "metadata": {
        "id": "u3pRxuOahHyl"
      }
    },
    {
      "cell_type": "markdown",
      "metadata": {
        "id": "Oar--2gn9EJ0"
      },
      "source": [
        "*Sua resposta aqui em no máximo 20 linhas.*"
      ]
    },
    {
      "cell_type": "markdown",
      "metadata": {
        "id": "p32U1tt_9XBd"
      },
      "source": [
        "### 2. Na Tarefa de Aprofundamento 3 você encontra um modelo de Árvore de Decisão métricas de desempenho do modelo todas muito superiores ao modelo de Regressão Logística e KVizinhos Mais Próximos. Um colega então faz a seguinte afirmação *Modelos de Árvores de Decisão são mais robustos e **sempre** fornecem resultados melhores que modelos mais simples em um mesmo conjunto de dados*. Esse colega está correto na sua afirmação? Como você responderia a ele?"
      ]
    },
    {
      "cell_type": "code",
      "source": [
        ""
      ],
      "metadata": {
        "id": "EGF2GzyuqwES"
      },
      "execution_count": null,
      "outputs": []
    },
    {
      "cell_type": "markdown",
      "metadata": {
        "id": "-tdb6x3s9XBd"
      },
      "source": [
        "*Sua resposta aqui em 1 (um) parágrafo.*"
      ]
    },
    {
      "cell_type": "markdown",
      "metadata": {
        "id": "xR8J3aMB-TjC"
      },
      "source": [
        "## Referências"
      ]
    },
    {
      "cell_type": "markdown",
      "metadata": {
        "id": "vxyPgZ60-TjC"
      },
      "source": [
        "https://medium.com/data-hackers/como-avaliar-seu-modelo-de-classifica%C3%A7%C3%A3o-34e6f6011108\n",
        "\n",
        "https://vitorborbarodrigues.medium.com/m%C3%A9tricas-de-avalia%C3%A7%C3%A3o-acur%C3%A1cia-precis%C3%A3o-recall-quais-as-diferen%C3%A7as-c8f05e0a513c"
      ]
    }
  ]
}