{
  "nbformat": 4,
  "nbformat_minor": 0,
  "metadata": {
    "kernelspec": {
      "display_name": "Python 3",
      "language": "python",
      "name": "python3"
    },
    "language_info": {
      "codemirror_mode": {
        "name": "ipython",
        "version": 3
      },
      "file_extension": ".py",
      "mimetype": "text/x-python",
      "name": "python",
      "nbconvert_exporter": "python",
      "pygments_lexer": "ipython3",
      "version": "3.7.4"
    },
    "colab": {
      "name": "BIG_A5_Clustering.ipynb",
      "provenance": [],
      "collapsed_sections": [],
      "include_colab_link": true
    }
  },
  "cells": [
    {
      "cell_type": "markdown",
      "metadata": {
        "id": "view-in-github",
        "colab_type": "text"
      },
      "source": [
        "<a href=\"https://colab.research.google.com/github/Jordasti/Especializa-o/blob/main/BIG_A5_Clustering%20-%20Jordasti.ipynb\" target=\"_parent\"><img src=\"https://colab.research.google.com/assets/colab-badge.svg\" alt=\"Open In Colab\"/></a>"
      ]
    },
    {
      "cell_type": "markdown",
      "metadata": {
        "id": "GXIqdLo14wj3"
      },
      "source": [
        "<head>\n",
        "  <meta name=\"author\" content=\"Rogério de Oliveira\">\n",
        "  <meta institution=\"author\" content=\"Universidade Presbiteriana Mackenzie\">\n",
        "</head>\n",
        "\n",
        "<img src=\"http://meusite.mackenzie.br/rogerio/mackenzie_logo/UPM.2_horizontal_vermelho.jpg\" width=300, align=\"right\">\n",
        "<!-- <h1 align=left><font size = 6, style=\"color:rgb(200,0,0)\"> optional title </font></h1> -->\n"
      ]
    },
    {
      "cell_type": "markdown",
      "metadata": {
        "id": "zQX8WQPeHTwc"
      },
      "source": [
        "# **Tarefa de Aprofundamento 5** \n",
        "## CASO: Clustering, Segmentando Países pela Força de Trabalho \n",
        "---\n",
        "<br>\n",
        "<br>\n",
        "\n",
        "\n",
        "\n"
      ]
    },
    {
      "cell_type": "markdown",
      "metadata": {
        "id": "Py6w383Wz2xs"
      },
      "source": [
        "A partir deste notebook você vai criar modelos de clusterização para os países com base em suas características de força de trabalho. \n",
        "\n",
        "Em seguida, com base nos seus resultados, responda o **questionário do Moodle**. "
      ]
    },
    {
      "cell_type": "markdown",
      "metadata": {
        "id": "nGZH-j05q8WZ"
      },
      "source": [
        "# Basic imports"
      ]
    },
    {
      "cell_type": "code",
      "metadata": {
        "id": "T6FFPMh10lvO"
      },
      "source": [
        "import numpy as np\n",
        "import pandas as pd\n",
        "import matplotlib.pyplot as plt\n",
        "%matplotlib inline\n",
        "import seaborn as sns"
      ],
      "execution_count": 1,
      "outputs": []
    },
    {
      "cell_type": "markdown",
      "metadata": {
        "id": "wF7X-vnhW3OJ"
      },
      "source": [
        "# Exploração dos Dados\n",
        "\n"
      ]
    },
    {
      "cell_type": "markdown",
      "metadata": {
        "id": "pfByZcOTDFDL"
      },
      "source": [
        "Esta base de dados contém a percentagem da população empregada em diferentes indústrias em 26 países europeus em 1979. \n",
        "\n",
        "- Country - o nome do país (identificador)\n",
        "- Agr -% da força de trabalho empregada na agricultura\n",
        "- Min -% na mineração\n",
        "- Man -% na fabricação\n",
        "- PS -% nas indústrias de fornecimento de energia\n",
        "- Con - % em construção\n",
        "- SI -% nas indústrias de serviços\n",
        "- Fin -% em finanças\n",
        "- SPS -% em serviços sociais e pessoais\n",
        "- TC -% em transporte e comunicações\n",
        "\n",
        "Fonte: https://statsandr.com/ \n",
        "\n",
        "**Objetivo:** Segmentar os países em grupos para aplicação de diferentes políticas públicas empregando Clusterização."
      ]
    },
    {
      "cell_type": "code",
      "metadata": {
        "colab": {
          "base_uri": "https://localhost:8080/",
          "height": 206
        },
        "id": "P6IHT8bPSDS8",
        "outputId": "dee0bd74-d6e0-4f21-9c8e-e94745ed32f7"
      },
      "source": [
        "df = pd.read_csv('http://meusite.mackenzie.br/rogerio/data_load/Eurojobs.csv')\n",
        "df.head()"
      ],
      "execution_count": 2,
      "outputs": [
        {
          "output_type": "execute_result",
          "data": {
            "text/plain": [
              "      Country   Agr  Min   Man   PS  Con    SI  Fin   SPS   TC\n",
              "0     Belgium   3.3  0.9  27.6  0.9  8.2  19.1  6.2  26.6  7.2\n",
              "1     Denmark   9.2  0.1  21.8  0.6  8.3  14.6  6.5  32.2  7.1\n",
              "2      France  10.8  0.8  27.5  0.9  8.9  16.8  6.0  22.6  5.7\n",
              "3  W. Germany   6.7  1.3  35.8  0.9  7.3  14.4  5.0  22.3  6.1\n",
              "4     Ireland  23.2  1.0  20.7  1.3  7.5  16.8  2.8  20.8  6.1"
            ],
            "text/html": [
              "\n",
              "  <div id=\"df-8b86c1be-83d9-459b-9d5f-5b391a18935e\">\n",
              "    <div class=\"colab-df-container\">\n",
              "      <div>\n",
              "<style scoped>\n",
              "    .dataframe tbody tr th:only-of-type {\n",
              "        vertical-align: middle;\n",
              "    }\n",
              "\n",
              "    .dataframe tbody tr th {\n",
              "        vertical-align: top;\n",
              "    }\n",
              "\n",
              "    .dataframe thead th {\n",
              "        text-align: right;\n",
              "    }\n",
              "</style>\n",
              "<table border=\"1\" class=\"dataframe\">\n",
              "  <thead>\n",
              "    <tr style=\"text-align: right;\">\n",
              "      <th></th>\n",
              "      <th>Country</th>\n",
              "      <th>Agr</th>\n",
              "      <th>Min</th>\n",
              "      <th>Man</th>\n",
              "      <th>PS</th>\n",
              "      <th>Con</th>\n",
              "      <th>SI</th>\n",
              "      <th>Fin</th>\n",
              "      <th>SPS</th>\n",
              "      <th>TC</th>\n",
              "    </tr>\n",
              "  </thead>\n",
              "  <tbody>\n",
              "    <tr>\n",
              "      <th>0</th>\n",
              "      <td>Belgium</td>\n",
              "      <td>3.3</td>\n",
              "      <td>0.9</td>\n",
              "      <td>27.6</td>\n",
              "      <td>0.9</td>\n",
              "      <td>8.2</td>\n",
              "      <td>19.1</td>\n",
              "      <td>6.2</td>\n",
              "      <td>26.6</td>\n",
              "      <td>7.2</td>\n",
              "    </tr>\n",
              "    <tr>\n",
              "      <th>1</th>\n",
              "      <td>Denmark</td>\n",
              "      <td>9.2</td>\n",
              "      <td>0.1</td>\n",
              "      <td>21.8</td>\n",
              "      <td>0.6</td>\n",
              "      <td>8.3</td>\n",
              "      <td>14.6</td>\n",
              "      <td>6.5</td>\n",
              "      <td>32.2</td>\n",
              "      <td>7.1</td>\n",
              "    </tr>\n",
              "    <tr>\n",
              "      <th>2</th>\n",
              "      <td>France</td>\n",
              "      <td>10.8</td>\n",
              "      <td>0.8</td>\n",
              "      <td>27.5</td>\n",
              "      <td>0.9</td>\n",
              "      <td>8.9</td>\n",
              "      <td>16.8</td>\n",
              "      <td>6.0</td>\n",
              "      <td>22.6</td>\n",
              "      <td>5.7</td>\n",
              "    </tr>\n",
              "    <tr>\n",
              "      <th>3</th>\n",
              "      <td>W. Germany</td>\n",
              "      <td>6.7</td>\n",
              "      <td>1.3</td>\n",
              "      <td>35.8</td>\n",
              "      <td>0.9</td>\n",
              "      <td>7.3</td>\n",
              "      <td>14.4</td>\n",
              "      <td>5.0</td>\n",
              "      <td>22.3</td>\n",
              "      <td>6.1</td>\n",
              "    </tr>\n",
              "    <tr>\n",
              "      <th>4</th>\n",
              "      <td>Ireland</td>\n",
              "      <td>23.2</td>\n",
              "      <td>1.0</td>\n",
              "      <td>20.7</td>\n",
              "      <td>1.3</td>\n",
              "      <td>7.5</td>\n",
              "      <td>16.8</td>\n",
              "      <td>2.8</td>\n",
              "      <td>20.8</td>\n",
              "      <td>6.1</td>\n",
              "    </tr>\n",
              "  </tbody>\n",
              "</table>\n",
              "</div>\n",
              "      <button class=\"colab-df-convert\" onclick=\"convertToInteractive('df-8b86c1be-83d9-459b-9d5f-5b391a18935e')\"\n",
              "              title=\"Convert this dataframe to an interactive table.\"\n",
              "              style=\"display:none;\">\n",
              "        \n",
              "  <svg xmlns=\"http://www.w3.org/2000/svg\" height=\"24px\"viewBox=\"0 0 24 24\"\n",
              "       width=\"24px\">\n",
              "    <path d=\"M0 0h24v24H0V0z\" fill=\"none\"/>\n",
              "    <path d=\"M18.56 5.44l.94 2.06.94-2.06 2.06-.94-2.06-.94-.94-2.06-.94 2.06-2.06.94zm-11 1L8.5 8.5l.94-2.06 2.06-.94-2.06-.94L8.5 2.5l-.94 2.06-2.06.94zm10 10l.94 2.06.94-2.06 2.06-.94-2.06-.94-.94-2.06-.94 2.06-2.06.94z\"/><path d=\"M17.41 7.96l-1.37-1.37c-.4-.4-.92-.59-1.43-.59-.52 0-1.04.2-1.43.59L10.3 9.45l-7.72 7.72c-.78.78-.78 2.05 0 2.83L4 21.41c.39.39.9.59 1.41.59.51 0 1.02-.2 1.41-.59l7.78-7.78 2.81-2.81c.8-.78.8-2.07 0-2.86zM5.41 20L4 18.59l7.72-7.72 1.47 1.35L5.41 20z\"/>\n",
              "  </svg>\n",
              "      </button>\n",
              "      \n",
              "  <style>\n",
              "    .colab-df-container {\n",
              "      display:flex;\n",
              "      flex-wrap:wrap;\n",
              "      gap: 12px;\n",
              "    }\n",
              "\n",
              "    .colab-df-convert {\n",
              "      background-color: #E8F0FE;\n",
              "      border: none;\n",
              "      border-radius: 50%;\n",
              "      cursor: pointer;\n",
              "      display: none;\n",
              "      fill: #1967D2;\n",
              "      height: 32px;\n",
              "      padding: 0 0 0 0;\n",
              "      width: 32px;\n",
              "    }\n",
              "\n",
              "    .colab-df-convert:hover {\n",
              "      background-color: #E2EBFA;\n",
              "      box-shadow: 0px 1px 2px rgba(60, 64, 67, 0.3), 0px 1px 3px 1px rgba(60, 64, 67, 0.15);\n",
              "      fill: #174EA6;\n",
              "    }\n",
              "\n",
              "    [theme=dark] .colab-df-convert {\n",
              "      background-color: #3B4455;\n",
              "      fill: #D2E3FC;\n",
              "    }\n",
              "\n",
              "    [theme=dark] .colab-df-convert:hover {\n",
              "      background-color: #434B5C;\n",
              "      box-shadow: 0px 1px 3px 1px rgba(0, 0, 0, 0.15);\n",
              "      filter: drop-shadow(0px 1px 2px rgba(0, 0, 0, 0.3));\n",
              "      fill: #FFFFFF;\n",
              "    }\n",
              "  </style>\n",
              "\n",
              "      <script>\n",
              "        const buttonEl =\n",
              "          document.querySelector('#df-8b86c1be-83d9-459b-9d5f-5b391a18935e button.colab-df-convert');\n",
              "        buttonEl.style.display =\n",
              "          google.colab.kernel.accessAllowed ? 'block' : 'none';\n",
              "\n",
              "        async function convertToInteractive(key) {\n",
              "          const element = document.querySelector('#df-8b86c1be-83d9-459b-9d5f-5b391a18935e');\n",
              "          const dataTable =\n",
              "            await google.colab.kernel.invokeFunction('convertToInteractive',\n",
              "                                                     [key], {});\n",
              "          if (!dataTable) return;\n",
              "\n",
              "          const docLinkHtml = 'Like what you see? Visit the ' +\n",
              "            '<a target=\"_blank\" href=https://colab.research.google.com/notebooks/data_table.ipynb>data table notebook</a>'\n",
              "            + ' to learn more about interactive tables.';\n",
              "          element.innerHTML = '';\n",
              "          dataTable['output_type'] = 'display_data';\n",
              "          await google.colab.output.renderOutput(dataTable, element);\n",
              "          const docLink = document.createElement('div');\n",
              "          docLink.innerHTML = docLinkHtml;\n",
              "          element.appendChild(docLink);\n",
              "        }\n",
              "      </script>\n",
              "    </div>\n",
              "  </div>\n",
              "  "
            ]
          },
          "metadata": {},
          "execution_count": 2
        }
      ]
    },
    {
      "cell_type": "markdown",
      "metadata": {
        "id": "1f8-sl3PYF3i"
      },
      "source": [
        "## Inspecione os dados"
      ]
    },
    {
      "cell_type": "code",
      "metadata": {
        "id": "b9pggocxSZUD",
        "outputId": "bdbc8e69-0a48-4982-e8e8-7bafb725375a",
        "colab": {
          "base_uri": "https://localhost:8080/"
        }
      },
      "source": [
        "# Verificando o numero de linhas e colunas do conjunto dedados\n",
        "df.shape"
      ],
      "execution_count": 3,
      "outputs": [
        {
          "output_type": "execute_result",
          "data": {
            "text/plain": [
              "(26, 10)"
            ]
          },
          "metadata": {},
          "execution_count": 3
        }
      ]
    },
    {
      "cell_type": "code",
      "source": [
        "# Verificando o tipo dos dados\n",
        "df.info()"
      ],
      "metadata": {
        "id": "jTV2vS-foAR0",
        "outputId": "e3d1f8ba-1f03-4b66-9637-82f234b84773",
        "colab": {
          "base_uri": "https://localhost:8080/"
        }
      },
      "execution_count": 4,
      "outputs": [
        {
          "output_type": "stream",
          "name": "stdout",
          "text": [
            "<class 'pandas.core.frame.DataFrame'>\n",
            "RangeIndex: 26 entries, 0 to 25\n",
            "Data columns (total 10 columns):\n",
            " #   Column   Non-Null Count  Dtype  \n",
            "---  ------   --------------  -----  \n",
            " 0   Country  26 non-null     object \n",
            " 1   Agr      26 non-null     float64\n",
            " 2   Min      26 non-null     float64\n",
            " 3   Man      26 non-null     float64\n",
            " 4   PS       26 non-null     float64\n",
            " 5   Con      26 non-null     float64\n",
            " 6   SI       26 non-null     float64\n",
            " 7   Fin      26 non-null     float64\n",
            " 8   SPS      26 non-null     float64\n",
            " 9   TC       26 non-null     float64\n",
            "dtypes: float64(9), object(1)\n",
            "memory usage: 2.2+ KB\n"
          ]
        }
      ]
    },
    {
      "cell_type": "code",
      "source": [
        "# Verificando valores nulos no conjunto de dados\n",
        "df.isnull().sum()"
      ],
      "metadata": {
        "id": "PqNlHsN7oC9H",
        "outputId": "f5061320-5eed-41a5-efbb-5920c72f50da",
        "colab": {
          "base_uri": "https://localhost:8080/"
        }
      },
      "execution_count": 5,
      "outputs": [
        {
          "output_type": "execute_result",
          "data": {
            "text/plain": [
              "Country    0\n",
              "Agr        0\n",
              "Min        0\n",
              "Man        0\n",
              "PS         0\n",
              "Con        0\n",
              "SI         0\n",
              "Fin        0\n",
              "SPS        0\n",
              "TC         0\n",
              "dtype: int64"
            ]
          },
          "metadata": {},
          "execution_count": 5
        }
      ]
    },
    {
      "cell_type": "markdown",
      "metadata": {
        "id": "qJUllMOaXMHp"
      },
      "source": [
        "## Preparação dos dados\n",
        "\n",
        "Normalize os dados o `StandardScaler` (melhor) ou a função `scale`.\n",
        "\n",
        "$$ z_i = \\frac{x_i - \\bar{x}}{\\sigma(x)}$$\n",
        "\n",
        "E não esqueça de excluir dados não úteis ao treinamento. Depois de normalizar os dados os valores devem apresentar média próxima de 0 e desvio padrão próximo de 1."
      ]
    },
    {
      "cell_type": "code",
      "metadata": {
        "id": "Vl2mpSUUTgwS",
        "outputId": "39eb6949-450b-4f5b-bc74-d4027c850e21",
        "colab": {
          "base_uri": "https://localhost:8080/",
          "height": 300
        }
      },
      "source": [
        "df.describe()"
      ],
      "execution_count": 8,
      "outputs": [
        {
          "output_type": "execute_result",
          "data": {
            "text/plain": [
              "             Agr        Min        Man         PS        Con         SI  \\\n",
              "count  26.000000  26.000000  26.000000  26.000000  26.000000  26.000000   \n",
              "mean   19.130769   1.253846  27.007692   0.907692   8.165385  12.957692   \n",
              "std    15.546569   0.970044   7.007763   0.376216   1.645586   4.575253   \n",
              "min     2.700000   0.100000   7.900000   0.100000   2.800000   5.200000   \n",
              "25%     7.700000   0.525000  23.000000   0.600000   7.525000   9.250000   \n",
              "50%    14.450000   0.950000  27.550000   0.850000   8.350000  14.400000   \n",
              "75%    23.675000   1.800000  30.200000   1.175000   8.975000  16.875000   \n",
              "max    66.800000   3.100000  41.200000   1.900000  11.500000  19.100000   \n",
              "\n",
              "             Fin        SPS         TC  \n",
              "count  26.000000  26.000000  26.000000  \n",
              "mean    4.000000  20.023077   6.546154  \n",
              "std     2.806564   6.829542   1.391469  \n",
              "min     0.500000   5.300000   3.200000  \n",
              "25%     1.225000  16.250000   5.700000  \n",
              "50%     4.650000  19.650000   6.700000  \n",
              "75%     5.925000  24.125000   7.075000  \n",
              "max    11.300000  32.400000   9.400000  "
            ],
            "text/html": [
              "\n",
              "  <div id=\"df-0a2733ac-90dd-447c-9608-945164ce9585\">\n",
              "    <div class=\"colab-df-container\">\n",
              "      <div>\n",
              "<style scoped>\n",
              "    .dataframe tbody tr th:only-of-type {\n",
              "        vertical-align: middle;\n",
              "    }\n",
              "\n",
              "    .dataframe tbody tr th {\n",
              "        vertical-align: top;\n",
              "    }\n",
              "\n",
              "    .dataframe thead th {\n",
              "        text-align: right;\n",
              "    }\n",
              "</style>\n",
              "<table border=\"1\" class=\"dataframe\">\n",
              "  <thead>\n",
              "    <tr style=\"text-align: right;\">\n",
              "      <th></th>\n",
              "      <th>Agr</th>\n",
              "      <th>Min</th>\n",
              "      <th>Man</th>\n",
              "      <th>PS</th>\n",
              "      <th>Con</th>\n",
              "      <th>SI</th>\n",
              "      <th>Fin</th>\n",
              "      <th>SPS</th>\n",
              "      <th>TC</th>\n",
              "    </tr>\n",
              "  </thead>\n",
              "  <tbody>\n",
              "    <tr>\n",
              "      <th>count</th>\n",
              "      <td>26.000000</td>\n",
              "      <td>26.000000</td>\n",
              "      <td>26.000000</td>\n",
              "      <td>26.000000</td>\n",
              "      <td>26.000000</td>\n",
              "      <td>26.000000</td>\n",
              "      <td>26.000000</td>\n",
              "      <td>26.000000</td>\n",
              "      <td>26.000000</td>\n",
              "    </tr>\n",
              "    <tr>\n",
              "      <th>mean</th>\n",
              "      <td>19.130769</td>\n",
              "      <td>1.253846</td>\n",
              "      <td>27.007692</td>\n",
              "      <td>0.907692</td>\n",
              "      <td>8.165385</td>\n",
              "      <td>12.957692</td>\n",
              "      <td>4.000000</td>\n",
              "      <td>20.023077</td>\n",
              "      <td>6.546154</td>\n",
              "    </tr>\n",
              "    <tr>\n",
              "      <th>std</th>\n",
              "      <td>15.546569</td>\n",
              "      <td>0.970044</td>\n",
              "      <td>7.007763</td>\n",
              "      <td>0.376216</td>\n",
              "      <td>1.645586</td>\n",
              "      <td>4.575253</td>\n",
              "      <td>2.806564</td>\n",
              "      <td>6.829542</td>\n",
              "      <td>1.391469</td>\n",
              "    </tr>\n",
              "    <tr>\n",
              "      <th>min</th>\n",
              "      <td>2.700000</td>\n",
              "      <td>0.100000</td>\n",
              "      <td>7.900000</td>\n",
              "      <td>0.100000</td>\n",
              "      <td>2.800000</td>\n",
              "      <td>5.200000</td>\n",
              "      <td>0.500000</td>\n",
              "      <td>5.300000</td>\n",
              "      <td>3.200000</td>\n",
              "    </tr>\n",
              "    <tr>\n",
              "      <th>25%</th>\n",
              "      <td>7.700000</td>\n",
              "      <td>0.525000</td>\n",
              "      <td>23.000000</td>\n",
              "      <td>0.600000</td>\n",
              "      <td>7.525000</td>\n",
              "      <td>9.250000</td>\n",
              "      <td>1.225000</td>\n",
              "      <td>16.250000</td>\n",
              "      <td>5.700000</td>\n",
              "    </tr>\n",
              "    <tr>\n",
              "      <th>50%</th>\n",
              "      <td>14.450000</td>\n",
              "      <td>0.950000</td>\n",
              "      <td>27.550000</td>\n",
              "      <td>0.850000</td>\n",
              "      <td>8.350000</td>\n",
              "      <td>14.400000</td>\n",
              "      <td>4.650000</td>\n",
              "      <td>19.650000</td>\n",
              "      <td>6.700000</td>\n",
              "    </tr>\n",
              "    <tr>\n",
              "      <th>75%</th>\n",
              "      <td>23.675000</td>\n",
              "      <td>1.800000</td>\n",
              "      <td>30.200000</td>\n",
              "      <td>1.175000</td>\n",
              "      <td>8.975000</td>\n",
              "      <td>16.875000</td>\n",
              "      <td>5.925000</td>\n",
              "      <td>24.125000</td>\n",
              "      <td>7.075000</td>\n",
              "    </tr>\n",
              "    <tr>\n",
              "      <th>max</th>\n",
              "      <td>66.800000</td>\n",
              "      <td>3.100000</td>\n",
              "      <td>41.200000</td>\n",
              "      <td>1.900000</td>\n",
              "      <td>11.500000</td>\n",
              "      <td>19.100000</td>\n",
              "      <td>11.300000</td>\n",
              "      <td>32.400000</td>\n",
              "      <td>9.400000</td>\n",
              "    </tr>\n",
              "  </tbody>\n",
              "</table>\n",
              "</div>\n",
              "      <button class=\"colab-df-convert\" onclick=\"convertToInteractive('df-0a2733ac-90dd-447c-9608-945164ce9585')\"\n",
              "              title=\"Convert this dataframe to an interactive table.\"\n",
              "              style=\"display:none;\">\n",
              "        \n",
              "  <svg xmlns=\"http://www.w3.org/2000/svg\" height=\"24px\"viewBox=\"0 0 24 24\"\n",
              "       width=\"24px\">\n",
              "    <path d=\"M0 0h24v24H0V0z\" fill=\"none\"/>\n",
              "    <path d=\"M18.56 5.44l.94 2.06.94-2.06 2.06-.94-2.06-.94-.94-2.06-.94 2.06-2.06.94zm-11 1L8.5 8.5l.94-2.06 2.06-.94-2.06-.94L8.5 2.5l-.94 2.06-2.06.94zm10 10l.94 2.06.94-2.06 2.06-.94-2.06-.94-.94-2.06-.94 2.06-2.06.94z\"/><path d=\"M17.41 7.96l-1.37-1.37c-.4-.4-.92-.59-1.43-.59-.52 0-1.04.2-1.43.59L10.3 9.45l-7.72 7.72c-.78.78-.78 2.05 0 2.83L4 21.41c.39.39.9.59 1.41.59.51 0 1.02-.2 1.41-.59l7.78-7.78 2.81-2.81c.8-.78.8-2.07 0-2.86zM5.41 20L4 18.59l7.72-7.72 1.47 1.35L5.41 20z\"/>\n",
              "  </svg>\n",
              "      </button>\n",
              "      \n",
              "  <style>\n",
              "    .colab-df-container {\n",
              "      display:flex;\n",
              "      flex-wrap:wrap;\n",
              "      gap: 12px;\n",
              "    }\n",
              "\n",
              "    .colab-df-convert {\n",
              "      background-color: #E8F0FE;\n",
              "      border: none;\n",
              "      border-radius: 50%;\n",
              "      cursor: pointer;\n",
              "      display: none;\n",
              "      fill: #1967D2;\n",
              "      height: 32px;\n",
              "      padding: 0 0 0 0;\n",
              "      width: 32px;\n",
              "    }\n",
              "\n",
              "    .colab-df-convert:hover {\n",
              "      background-color: #E2EBFA;\n",
              "      box-shadow: 0px 1px 2px rgba(60, 64, 67, 0.3), 0px 1px 3px 1px rgba(60, 64, 67, 0.15);\n",
              "      fill: #174EA6;\n",
              "    }\n",
              "\n",
              "    [theme=dark] .colab-df-convert {\n",
              "      background-color: #3B4455;\n",
              "      fill: #D2E3FC;\n",
              "    }\n",
              "\n",
              "    [theme=dark] .colab-df-convert:hover {\n",
              "      background-color: #434B5C;\n",
              "      box-shadow: 0px 1px 3px 1px rgba(0, 0, 0, 0.15);\n",
              "      filter: drop-shadow(0px 1px 2px rgba(0, 0, 0, 0.3));\n",
              "      fill: #FFFFFF;\n",
              "    }\n",
              "  </style>\n",
              "\n",
              "      <script>\n",
              "        const buttonEl =\n",
              "          document.querySelector('#df-0a2733ac-90dd-447c-9608-945164ce9585 button.colab-df-convert');\n",
              "        buttonEl.style.display =\n",
              "          google.colab.kernel.accessAllowed ? 'block' : 'none';\n",
              "\n",
              "        async function convertToInteractive(key) {\n",
              "          const element = document.querySelector('#df-0a2733ac-90dd-447c-9608-945164ce9585');\n",
              "          const dataTable =\n",
              "            await google.colab.kernel.invokeFunction('convertToInteractive',\n",
              "                                                     [key], {});\n",
              "          if (!dataTable) return;\n",
              "\n",
              "          const docLinkHtml = 'Like what you see? Visit the ' +\n",
              "            '<a target=\"_blank\" href=https://colab.research.google.com/notebooks/data_table.ipynb>data table notebook</a>'\n",
              "            + ' to learn more about interactive tables.';\n",
              "          element.innerHTML = '';\n",
              "          dataTable['output_type'] = 'display_data';\n",
              "          await google.colab.output.renderOutput(dataTable, element);\n",
              "          const docLink = document.createElement('div');\n",
              "          docLink.innerHTML = docLinkHtml;\n",
              "          element.appendChild(docLink);\n",
              "        }\n",
              "      </script>\n",
              "    </div>\n",
              "  </div>\n",
              "  "
            ]
          },
          "metadata": {},
          "execution_count": 8
        }
      ]
    },
    {
      "cell_type": "code",
      "source": [
        "from sklearn.preprocessing import StandardScaler\n",
        "\n",
        "df = df.drop(columns= ['Country'] )\n",
        "\n",
        "scaler = StandardScaler()\n",
        "scaler.fit(df)\n",
        "X = scaler.transform(df)\n",
        "\n",
        "X[0:10]"
      ],
      "metadata": {
        "id": "pptj5EVnpr_h",
        "outputId": "33f8ce40-2d29-412d-904b-48e050888628",
        "colab": {
          "base_uri": "https://localhost:8080/"
        }
      },
      "execution_count": 10,
      "outputs": [
        {
          "output_type": "execute_result",
          "data": {
            "text/plain": [
              "array([[-1.03844649, -0.37199739,  0.08619551, -0.02085144,  0.02145187,\n",
              "         1.3690936 ,  0.79940055,  0.9820822 ,  0.47920226],\n",
              "       [-0.65142586, -1.21303495, -0.75784885, -0.83405766,  0.08342395,\n",
              "         0.36606322,  0.90840971,  1.81828787,  0.40591251],\n",
              "       [-0.54647111, -0.47712708,  0.07164302, -0.02085144,  0.4552564 ,\n",
              "         0.85643363,  0.72672777,  0.38479244, -0.62014411],\n",
              "       [-0.81541765,  0.0485214 ,  1.27949961, -0.02085144, -0.53629681,\n",
              "         0.32148409,  0.36336389,  0.33999571, -0.32698507],\n",
              "       [ 0.26692818, -0.26686769, -0.91792623,  1.06342351, -0.41235266,\n",
              "         0.85643363, -0.43603666,  0.11601205, -0.32698507],\n",
              "       [-0.21192785, -0.68738647,  0.08619551, -1.10512639,  1.13694923,\n",
              "         1.14619796, -0.87207332,  0.01148634, -0.62014411],\n",
              "       [-0.74982093,  1.94085592,  0.55187516, -0.29192018,  0.64117263,\n",
              "         1.23535621,  0.21801833, -0.12290385, -0.25369532],\n",
              "       [-0.84165634, -1.21303495, -0.65598143,  0.2502173 ,  1.07497715,\n",
              "         1.12390839,  1.01741888,  1.26579484,  0.18604323],\n",
              "       [-1.07780452,  0.15365109,  0.46456023,  1.33449225, -0.78418511,\n",
              "         0.87872319,  0.6177186 ,  1.23593035, -0.1071158 ],\n",
              "       [-0.42183735, -0.16173799,  0.46456023,  1.33449225,  0.51722848,\n",
              "         0.85643363,  0.3270275 , -0.48127771,  0.33262275]])"
            ]
          },
          "metadata": {},
          "execution_count": 10
        }
      ]
    },
    {
      "cell_type": "markdown",
      "metadata": {
        "id": "379oIRQiYY2C"
      },
      "source": [
        "## Número de Clusters\n",
        "\n",
        "(Moodle) **Q1**. Qual o melhor número de clusters pela *regra do cotovelo* e pelo valor médio de silhueta aplicanaod o `kmedias`? (verifique de 2 a 10 clusters)\n",
        "\n",
        "> Empregue `random_state= 1234` no `KMeans`. Não empregue outros parâmetros não solicitados.   \n",
        "\n"
      ]
    },
    {
      "cell_type": "code",
      "source": [
        "def inercia (X=X, kmin=2, kmax=10):\n",
        "  inertia = []\n",
        "  for n in range(kmin, kmax+1):\n",
        "    clf = KMeans(n_clusters = n, random_state= 1234)\n",
        "    clf.fit(X)\n",
        "    inertia.append(clf.inertia_)\n",
        "\n",
        "  plt.figure(figsize = (10,4))\n",
        "  plt.plot(np.arange(1,11), inertia, 'ko')\n",
        "  plt.plot(np.arange(1,11), inertia, '-', alpha = 0.5)\n",
        "  plt.xlabel('Number of Clusters'), plt.ylabel('Inertia')\n",
        "  plt.title('Kmeans Clusters', fontsize=14, weight='bold')\n",
        "  return inertia\n",
        "\n",
        "inertia = inercia(X,2,11)\n",
        "plt.plot(2, inertia[1], 'P', alpha = 1, color = 'red')\n",
        "plt.annotate('Elbow Point', (2, inertia[1]),\n",
        "              xytext=(10,40), fontsize=14,\n",
        "              textcoords='offset points',\n",
        "              color='grey', arrowprops=dict(facecolor='black', width=0.1))\n",
        "plt.show()"
      ],
      "metadata": {
        "id": "s9TmtKtEwqWK",
        "outputId": "cb179187-6871-4aaf-e711-ee5bbef8ba02",
        "colab": {
          "base_uri": "https://localhost:8080/",
          "height": 296
        }
      },
      "execution_count": 62,
      "outputs": [
        {
          "output_type": "display_data",
          "data": {
            "text/plain": [
              "<Figure size 720x288 with 1 Axes>"
            ],
            "image/png": "[encoded data removed]"
          },
          "metadata": {
            "needs_background": "light"
          }
        }
      ]
    },
    {
      "cell_type": "code",
      "source": [
        "from sklearn.cluster import KMeans\n",
        "from sklearn import metrics\n",
        "\n",
        "for cluster in range(2,11): \n",
        "    clf = KMeans(n_clusters = cluster, random_state= 1234)\n",
        "    clf.fit(X) \n",
        "    labels = clf.labels_\n",
        "    print('Silhueta média para', cluster, 'clusters:', np.round(metrics.silhouette_score(X, labels, metric='euclidean'), 3))"
      ],
      "metadata": {
        "id": "7XgOcWux5iNO",
        "outputId": "88df39e6-ec0e-465a-93c9-d4909ee41a68",
        "colab": {
          "base_uri": "https://localhost:8080/"
        }
      },
      "execution_count": 58,
      "outputs": [
        {
          "output_type": "stream",
          "name": "stdout",
          "text": [
            "Silhueta média para 2 clusters: 0.323\n",
            "Silhueta média para 3 clusters: 0.278\n",
            "Silhueta média para 4 clusters: 0.231\n",
            "Silhueta média para 5 clusters: 0.202\n",
            "Silhueta média para 6 clusters: 0.164\n",
            "Silhueta média para 7 clusters: 0.2\n",
            "Silhueta média para 8 clusters: 0.194\n",
            "Silhueta média para 9 clusters: 0.182\n",
            "Silhueta média para 10 clusters: 0.181\n"
          ]
        }
      ]
    },
    {
      "cell_type": "code",
      "metadata": {
        "id": "h07ThSkD843k",
        "outputId": "028814ef-008f-4419-d50a-bf3d716a55b1",
        "colab": {
          "base_uri": "https://localhost:8080/"
        }
      },
      "source": [
        "from sklearn.preprocessing import StandardScaler\n",
        "from sklearn.cluster import KMeans\n",
        "\n",
        "scaler = StandardScaler()\n",
        "scaler.fit(df[['Agr',\t'Min',\t'Man',\t'PS',\t'Con',\t'SI',\t'Fin',\t'SPS',\t'TC']])\n",
        "X = scaler.transform(df[['Agr',\t'Min',\t'Man',\t'PS',\t'Con',\t'SI',\t'Fin',\t'SPS', 'TC']])\n",
        " \n",
        "clf = KMeans(n_clusters = 10, random_state= 1234)\n",
        "clf.fit(X) \n",
        "labels = clf.labels_\n",
        "centroids = clf.cluster_centers_\n",
        "print(labels)\n",
        "print(centroids)"
      ],
      "execution_count": 65,
      "outputs": [
        {
          "output_type": "stream",
          "name": "stdout",
          "text": [
            "[9 9 0 0 0 7 8 9 0 0 0 2 9 2 6 9 7 4 1 3 3 3 1 1 1 5]\n",
            "[[-4.99460131e-01 -2.66867690e-01  2.00190009e-01  7.92354773e-01\n",
            "  -2.05779071e-01  6.92976826e-01  3.57307820e-01  3.72348906e-01\n",
            "  -4.60410018e-02]\n",
            " [ 5.99831518e-01  7.58146845e-01  2.13529791e-01 -6.30756103e-01\n",
            "   2.38354136e-01 -1.35580559e+00 -1.14459624e+00 -3.91684248e-01\n",
            "   3.14300308e-01]\n",
            " [ 1.01473075e+00 -8.45081017e-01 -8.66992520e-01 -8.34057656e-01\n",
            "   5.24379100e-02 -1.24307183e-01 -5.26877633e-01 -9.21778911e-01\n",
            "  -2.53695316e-01]\n",
            " [-3.27815388e-01  1.80068300e+00  1.22614049e+00  1.51520474e+00\n",
            "   7.94513787e-04 -6.74116426e-01 -1.09009166e+00 -1.42813514e-01\n",
            "   9.18940811e-01]\n",
            " [ 3.12694504e+00 -5.82256777e-01 -2.78064483e+00 -2.18940135e+00\n",
            "  -3.32504020e+00 -1.72915578e+00 -1.05375527e+00 -1.21295767e+00\n",
            "  -2.45238805e+00]\n",
            " [ 1.93964446e+00  2.58780790e-01 -1.48547330e+00  5.21286035e-01\n",
            "  -2.02362662e+00 -1.46168102e+00  2.65255636e+00 -2.19848578e+00\n",
            "  -1.86606999e+00]\n",
            " [ 2.47249164e-01 -4.77127081e-01  2.17167913e-01 -5.62988918e-01\n",
            "   2.06653036e+00 -7.26125408e-01  1.63513748e+00 -1.22788991e+00\n",
            "  -7.66723621e-01]\n",
            " [-4.80874394e-01 -8.97645865e-01  8.28372453e-01 -6.98523287e-01\n",
            "   9.82019041e-01  1.07932927e+00 -1.99850137e-01 -3.39421393e-01\n",
            "  -6.20144105e-01]\n",
            " [-7.49820934e-01  1.94085592e+00  5.51875161e-01 -2.91920180e-01\n",
            "   6.41172626e-01  1.23535621e+00  2.18018331e-01 -1.22903855e-01\n",
            "  -2.53695316e-01]\n",
            " [-8.10169914e-01 -8.97645865e-01 -4.31873098e-01 -2.37706432e-01\n",
            "   1.70184853e-01  8.11854500e-01  7.41262326e-01  1.40914438e+00\n",
            "   6.69755634e-01]]\n"
          ]
        }
      ]
    },
    {
      "cell_type": "markdown",
      "metadata": {
        "id": "sCsvMhyq8OR8"
      },
      "source": [
        "(Moodle) **Q2**. Qual ao valor médio de silhueta para o melhor número de clusters na clusterização hierárquica (aglomerativa) para os esquemas de ligação (*linkage*) `ward` (padrão do `scikit-learn`),`complete` e `single`? (verifique de 2 a 10 clusters)\n",
        "\n",
        "> Não empregue outros parâmetros não solicitados. "
      ]
    },
    {
      "cell_type": "code",
      "source": [
        "# esquema ward\n",
        "from sklearn.cluster import AgglomerativeClustering\n",
        "\n",
        "for n in range(2,11):\n",
        "  clf = AgglomerativeClustering(n_clusters=n, affinity='euclidean', linkage='ward')\n",
        "  clf.fit(X)\n",
        "  labels = clf.labels_\n",
        "  print(labels)"
      ],
      "metadata": {
        "id": "wJM1aNyQ-mvW",
        "outputId": "7509720c-8882-4ffa-b74e-6eb925e450ba",
        "colab": {
          "base_uri": "https://localhost:8080/"
        }
      },
      "execution_count": 70,
      "outputs": [
        {
          "output_type": "stream",
          "name": "stdout",
          "text": [
            "[0 0 0 0 0 0 0 0 0 0 0 0 0 0 0 0 0 1 0 0 0 0 0 0 0 1]\n",
            "[2 2 2 2 2 2 2 2 2 2 2 0 2 0 0 2 2 1 0 0 0 0 0 0 0 1]\n",
            "[2 2 2 2 2 2 2 2 2 2 2 1 2 1 1 2 2 0 1 3 3 3 1 1 1 0]\n",
            "[0 0 0 0 0 0 0 0 0 0 0 1 0 1 1 0 0 4 1 3 3 3 1 1 1 2]\n",
            "[1 1 1 2 1 2 2 1 1 1 1 0 1 0 0 1 2 4 0 3 3 3 0 0 0 5]\n",
            "[0 0 0 6 0 6 6 0 0 0 0 1 0 1 1 0 6 4 2 3 3 3 2 2 2 5]\n",
            "[1 1 1 6 7 6 6 1 7 7 7 0 1 0 0 1 6 4 2 3 3 3 2 2 2 5]\n",
            "[1 1 1 2 7 2 2 1 7 7 7 6 1 6 8 1 2 4 0 3 3 3 0 0 0 5]\n",
            "[1 1 1 0 7 0 0 1 7 7 7 6 1 6 8 1 0 9 2 3 3 3 2 2 4 5]\n"
          ]
        }
      ]
    },
    {
      "cell_type": "code",
      "source": [
        "# esquema complete\n",
        "from sklearn.cluster import AgglomerativeClustering\n",
        "\n",
        "for n in range(2,11):\n",
        "  clf = AgglomerativeClustering(n_clusters=n, affinity='euclidean', linkage='complete')\n",
        "  clf.fit(X)\n",
        "  labels = clf.labels_\n",
        "  print(labels)"
      ],
      "metadata": {
        "id": "9dObuLPY-nnr",
        "outputId": "63e0387a-2e19-42e8-ec3c-abb07dd9e8d3",
        "colab": {
          "base_uri": "https://localhost:8080/"
        }
      },
      "execution_count": 71,
      "outputs": [
        {
          "output_type": "stream",
          "name": "stdout",
          "text": [
            "[0 0 0 0 0 0 0 0 0 0 0 0 0 0 0 0 0 1 0 0 0 0 0 0 0 1]\n",
            "[0 0 0 0 0 0 0 0 0 0 0 0 0 0 0 0 0 1 0 2 2 2 0 0 0 1]\n",
            "[3 3 3 1 3 1 1 3 3 3 3 1 3 1 1 3 1 0 1 2 2 2 1 1 1 0]\n",
            "[1 1 1 0 1 0 0 1 1 1 1 0 1 0 0 1 0 4 0 2 2 2 0 0 0 3]\n",
            "[1 1 1 0 1 0 0 1 1 1 1 2 1 2 0 1 0 4 2 5 5 5 2 2 2 3]\n",
            "[1 1 1 2 1 2 2 1 1 1 1 0 1 0 6 1 2 4 0 5 5 5 0 0 0 3]\n",
            "[0 0 0 2 0 2 2 0 0 0 0 1 0 1 6 0 2 4 1 5 5 5 1 1 7 3]\n",
            "[2 2 2 0 3 0 0 2 3 3 3 1 2 1 6 2 0 4 1 5 5 5 1 1 7 8]\n",
            "[2 2 2 1 3 1 9 2 3 3 3 0 2 0 6 2 1 4 0 5 5 5 0 0 7 8]\n"
          ]
        }
      ]
    },
    {
      "cell_type": "code",
      "metadata": {
        "id": "eMaTPiZbUjVW",
        "outputId": "4ea1d220-6e55-41e6-a4a7-29470fe120d2",
        "colab": {
          "base_uri": "https://localhost:8080/"
        }
      },
      "source": [
        "# esquema single\n",
        "from sklearn.cluster import AgglomerativeClustering\n",
        "\n",
        "for n in range(2,11): \n",
        "  clf = AgglomerativeClustering(n_clusters=n, affinity='euclidean', linkage='single') \n",
        "  clf.fit(X)\n",
        "  labels = clf.labels_\n",
        "  print(labels)"
      ],
      "execution_count": 72,
      "outputs": [
        {
          "output_type": "stream",
          "name": "stdout",
          "text": [
            "[0 0 0 0 0 0 0 0 0 0 0 0 0 0 0 0 0 1 0 0 0 0 0 0 0 0]\n",
            "[0 0 0 0 0 0 0 0 0 0 0 0 0 0 0 0 0 1 0 0 0 0 0 0 0 2]\n",
            "[0 0 0 0 0 0 0 0 0 0 0 0 0 0 3 0 0 1 0 0 0 0 0 0 0 2]\n",
            "[0 0 0 0 0 0 0 0 0 0 0 0 0 0 3 0 0 4 1 1 1 1 1 1 1 2]\n",
            "[2 2 2 2 2 2 4 2 2 2 2 2 2 2 3 2 2 1 0 0 0 0 0 0 0 5]\n",
            "[2 2 2 2 2 2 4 2 2 2 2 2 2 2 3 2 2 1 0 0 0 0 0 0 6 5]\n",
            "[0 0 0 0 0 0 4 0 0 0 0 0 0 0 7 0 0 3 1 1 1 5 1 1 6 2]\n",
            "[0 0 0 0 0 3 4 0 0 0 0 3 0 3 7 0 0 8 1 1 1 5 1 1 6 2]\n",
            "[0 0 0 0 0 3 9 0 0 0 0 3 4 3 7 0 0 8 1 1 1 5 1 1 6 2]\n"
          ]
        }
      ]
    },
    {
      "cell_type": "markdown",
      "metadata": {
        "id": "IseBYJx1aCxl"
      },
      "source": [
        "## Clusterização, 3 Clusters\n",
        "\n",
        "O número de clusters não segue um único critério e normalmente é feita uma análise conjunta de várias métricas. Métodos não supervisionados são analíticos e é esperado que você analise as mátricas e resultados para uma *solução*. \n",
        "\n",
        "(Moodle) **Q3**. Verifique a *distribuição* da quantidade de elementos no modelo que fornece o melhor número de silhueta. Qual é essa distribuição e responda se essa é uma clusterização útil e adequada.\n",
        "\n",
        "> Note, por exemplo a distribuição de 100, 43, 8 para 3 grupos é uma distribuição melhor que 100, 50, 1 e podemos considerar neste último caso que o grupo com 1 elemento é um *outlier*.\n",
        "\n"
      ]
    },
    {
      "cell_type": "code",
      "metadata": {
        "id": "En8ho00M9iq1"
      },
      "source": [
        "# seu código"
      ],
      "execution_count": null,
      "outputs": []
    },
    {
      "cell_type": "code",
      "metadata": {
        "id": "Ek6FbyNW9mwE"
      },
      "source": [
        "# seu código"
      ],
      "execution_count": null,
      "outputs": []
    },
    {
      "cell_type": "markdown",
      "metadata": {
        "id": "o2JAOE04-i2M"
      },
      "source": [
        "## Clusterização `Kmeans`,  $K=3$.\n",
        "\n",
        "Vamos considerar que nossa análise ao final leva ao uso do Kmeans para 3 grupos de dados. De fato essa parece ser a melhor opção embora não tenhamos explorado isso aqui. Verique que a distribuição dos dados é de fato melhor e analise para esse modelo os valores médios dos grupos e os países pertencentes a cada grupo.\n",
        "\n",
        "(Moodle) **Q4**. Há um grupo que se caracteriza por um % médio maior da força de trabalho empregada na agricultura. Qual esse percentual e que países fazem parte dele? \n",
        "\n",
        "(Moodle) **Q5**. Excetuando o grupo o com % médio maior da força de trabalho empregada na agricultura e esse indicador, o que mais se destaca em diferenciar os outros dois grupos?\n",
        "\n",
        "> Empregue `random_state= 1234` no `KMeans`. Não empregue outros parâmetros não solicitados.\n",
        "\n"
      ]
    },
    {
      "cell_type": "code",
      "metadata": {
        "id": "Smgi9ZPaea0q"
      },
      "source": [
        "# seu código"
      ],
      "execution_count": null,
      "outputs": []
    },
    {
      "cell_type": "code",
      "metadata": {
        "id": "B0GCFnpu-Lqc"
      },
      "source": [
        "# seu código"
      ],
      "execution_count": null,
      "outputs": []
    },
    {
      "cell_type": "code",
      "metadata": {
        "id": "NYyTx8dP-OXc"
      },
      "source": [
        "# seu código"
      ],
      "execution_count": null,
      "outputs": []
    }
  ]
}