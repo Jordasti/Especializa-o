{
  "nbformat": 4,
  "nbformat_minor": 0,
  "metadata": {
    "colab": {
      "name": "Untitled3.ipynb",
      "provenance": [],
      "authorship_tag": "ABX9TyNso2Dq/iUxOMqTNg/jiIQU",
      "include_colab_link": true
    },
    "kernelspec": {
      "name": "ir",
      "display_name": "R"
    },
    "language_info": {
      "name": "R"
    }
  },
  "cells": [
    {
      "cell_type": "markdown",
      "metadata": {
        "id": "view-in-github",
        "colab_type": "text"
      },
      "source": [
        "<a href=\"https://colab.research.google.com/github/Jordasti/Especializa-o/blob/main/Exercicio%20de%20aprofundamento%20-%20Trilha%207.ipynb\" target=\"_parent\"><img src=\"https://colab.research.google.com/assets/colab-badge.svg\" alt=\"Open In Colab\"/></a>"
      ]
    },
    {
      "cell_type": "code",
      "metadata": {
        "id": "lIeozwjb2xES"
      },
      "source": [
        "install.packages(\"nflfastR\")\n",
        "#install.packages(\"ggimage\")\n",
        "install.packages(\"imager\")"
      ],
      "execution_count": null,
      "outputs": []
    }
  ]
}