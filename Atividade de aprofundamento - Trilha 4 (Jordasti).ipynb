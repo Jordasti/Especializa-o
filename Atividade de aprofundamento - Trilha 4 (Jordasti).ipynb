{
 "cells": [
  {
   "cell_type": "markdown",
   "metadata": {},
   "source": [
    "# ATIVIDADE DE APROFUNDAMENTO: TRILHA 4"
   ]
  },
  {
   "cell_type": "markdown",
   "metadata": {},
   "source": [
    "### 1° PASSO - IMPORTANDO AS BIBLIOTECAS"
   ]
  },
  {
   "cell_type": "code",
   "execution_count": 106,
   "metadata": {},
   "outputs": [],
   "source": [
    "import pandas as pd\n",
    "import matplotlib.pyplot as plt\n",
    "import seaborn as sns\n",
    "import numpy as np\n"
   ]
  },
  {
   "cell_type": "markdown",
   "metadata": {},
   "source": [
    "### 2° PASSO - IMPORTANDO OS DATAFRAMES"
   ]
  },
  {
   "cell_type": "code",
   "execution_count": 107,
   "metadata": {},
   "outputs": [],
   "source": [
    "morteporhiv = pd.read_csv(r'C:/Users/7234/Desktop/Jordasti/Especialização/Matérias/PARADIGMAS DE LINGUAGEM DE PROGRAMAÇÃO EM CIÊNCIA DE DADOS/Trilha 4 Estudos de caso de análise de dados I/annual_hiv_deaths_number_all_ages.csv')\n",
    "infectadosporhiv = pd.read_csv(r'C:/Users/7234/Desktop/Jordasti/Especialização/Matérias/PARADIGMAS DE LINGUAGEM DE PROGRAMAÇÃO EM CIÊNCIA DE DADOS/Trilha 4 Estudos de caso de análise de dados I/newly_hiv_infected_number_all_ages.csv')\n"
   ]
  },
  {
   "cell_type": "markdown",
   "metadata": {},
   "source": [
    "### 3° PASSO - TRATANDO OS DADOS"
   ]
  },
  {
   "cell_type": "code",
   "execution_count": 108,
   "metadata": {},
   "outputs": [
    {
     "data": {
      "text/html": [
       "<div>\n",
       "<style scoped>\n",
       "    .dataframe tbody tr th:only-of-type {\n",
       "        vertical-align: middle;\n",
       "    }\n",
       "\n",
       "    .dataframe tbody tr th {\n",
       "        vertical-align: top;\n",
       "    }\n",
       "\n",
       "    .dataframe thead th {\n",
       "        text-align: right;\n",
       "    }\n",
       "</style>\n",
       "<table border=\"1\" class=\"dataframe\">\n",
       "  <thead>\n",
       "    <tr style=\"text-align: right;\">\n",
       "      <th></th>\n",
       "      <th>country</th>\n",
       "      <th>year</th>\n",
       "      <th>infectados</th>\n",
       "      <th>mortes</th>\n",
       "    </tr>\n",
       "  </thead>\n",
       "  <tbody>\n",
       "    <tr>\n",
       "      <th>0</th>\n",
       "      <td>Argentina</td>\n",
       "      <td>1989</td>\n",
       "      <td>4900.0</td>\n",
       "      <td>3000.0</td>\n",
       "    </tr>\n",
       "    <tr>\n",
       "      <th>1</th>\n",
       "      <td>Argentina</td>\n",
       "      <td>1990</td>\n",
       "      <td>5400.0</td>\n",
       "      <td>3200.0</td>\n",
       "    </tr>\n",
       "    <tr>\n",
       "      <th>2</th>\n",
       "      <td>Argentina</td>\n",
       "      <td>1991</td>\n",
       "      <td>5800.0</td>\n",
       "      <td>3400.0</td>\n",
       "    </tr>\n",
       "    <tr>\n",
       "      <th>3</th>\n",
       "      <td>Argentina</td>\n",
       "      <td>1992</td>\n",
       "      <td>6300.0</td>\n",
       "      <td>3600.0</td>\n",
       "    </tr>\n",
       "    <tr>\n",
       "      <th>4</th>\n",
       "      <td>Argentina</td>\n",
       "      <td>1993</td>\n",
       "      <td>6700.0</td>\n",
       "      <td>3800.0</td>\n",
       "    </tr>\n",
       "    <tr>\n",
       "      <th>5</th>\n",
       "      <td>Argentina</td>\n",
       "      <td>1994</td>\n",
       "      <td>6700.0</td>\n",
       "      <td>3500.0</td>\n",
       "    </tr>\n",
       "    <tr>\n",
       "      <th>6</th>\n",
       "      <td>Argentina</td>\n",
       "      <td>1995</td>\n",
       "      <td>6700.0</td>\n",
       "      <td>3200.0</td>\n",
       "    </tr>\n",
       "    <tr>\n",
       "      <th>7</th>\n",
       "      <td>Argentina</td>\n",
       "      <td>1996</td>\n",
       "      <td>6900.0</td>\n",
       "      <td>3100.0</td>\n",
       "    </tr>\n",
       "    <tr>\n",
       "      <th>8</th>\n",
       "      <td>Argentina</td>\n",
       "      <td>1997</td>\n",
       "      <td>7000.0</td>\n",
       "      <td>3000.0</td>\n",
       "    </tr>\n",
       "    <tr>\n",
       "      <th>9</th>\n",
       "      <td>Argentina</td>\n",
       "      <td>1998</td>\n",
       "      <td>7100.0</td>\n",
       "      <td>3000.0</td>\n",
       "    </tr>\n",
       "    <tr>\n",
       "      <th>10</th>\n",
       "      <td>Argentina</td>\n",
       "      <td>1999</td>\n",
       "      <td>7000.0</td>\n",
       "      <td>2700.0</td>\n",
       "    </tr>\n",
       "    <tr>\n",
       "      <th>11</th>\n",
       "      <td>Argentina</td>\n",
       "      <td>2000</td>\n",
       "      <td>7300.0</td>\n",
       "      <td>2800.0</td>\n",
       "    </tr>\n",
       "    <tr>\n",
       "      <th>12</th>\n",
       "      <td>Argentina</td>\n",
       "      <td>2001</td>\n",
       "      <td>7400.0</td>\n",
       "      <td>2800.0</td>\n",
       "    </tr>\n",
       "    <tr>\n",
       "      <th>13</th>\n",
       "      <td>Argentina</td>\n",
       "      <td>2002</td>\n",
       "      <td>7500.0</td>\n",
       "      <td>2900.0</td>\n",
       "    </tr>\n",
       "    <tr>\n",
       "      <th>14</th>\n",
       "      <td>Argentina</td>\n",
       "      <td>2003</td>\n",
       "      <td>7600.0</td>\n",
       "      <td>3100.0</td>\n",
       "    </tr>\n",
       "    <tr>\n",
       "      <th>15</th>\n",
       "      <td>Argentina</td>\n",
       "      <td>2004</td>\n",
       "      <td>7700.0</td>\n",
       "      <td>3200.0</td>\n",
       "    </tr>\n",
       "    <tr>\n",
       "      <th>16</th>\n",
       "      <td>Argentina</td>\n",
       "      <td>2005</td>\n",
       "      <td>7700.0</td>\n",
       "      <td>3200.0</td>\n",
       "    </tr>\n",
       "    <tr>\n",
       "      <th>17</th>\n",
       "      <td>Argentina</td>\n",
       "      <td>2006</td>\n",
       "      <td>7600.0</td>\n",
       "      <td>3200.0</td>\n",
       "    </tr>\n",
       "    <tr>\n",
       "      <th>18</th>\n",
       "      <td>Argentina</td>\n",
       "      <td>2007</td>\n",
       "      <td>7500.0</td>\n",
       "      <td>3000.0</td>\n",
       "    </tr>\n",
       "    <tr>\n",
       "      <th>19</th>\n",
       "      <td>Argentina</td>\n",
       "      <td>2008</td>\n",
       "      <td>7500.0</td>\n",
       "      <td>2900.0</td>\n",
       "    </tr>\n",
       "    <tr>\n",
       "      <th>20</th>\n",
       "      <td>Argentina</td>\n",
       "      <td>2009</td>\n",
       "      <td>NaN</td>\n",
       "      <td>NaN</td>\n",
       "    </tr>\n",
       "    <tr>\n",
       "      <th>21</th>\n",
       "      <td>Argentina</td>\n",
       "      <td>2010</td>\n",
       "      <td>5600.0</td>\n",
       "      <td>NaN</td>\n",
       "    </tr>\n",
       "  </tbody>\n",
       "</table>\n",
       "</div>"
      ],
      "text/plain": [
       "      country  year  infectados  mortes\n",
       "0   Argentina  1989      4900.0  3000.0\n",
       "1   Argentina  1990      5400.0  3200.0\n",
       "2   Argentina  1991      5800.0  3400.0\n",
       "3   Argentina  1992      6300.0  3600.0\n",
       "4   Argentina  1993      6700.0  3800.0\n",
       "5   Argentina  1994      6700.0  3500.0\n",
       "6   Argentina  1995      6700.0  3200.0\n",
       "7   Argentina  1996      6900.0  3100.0\n",
       "8   Argentina  1997      7000.0  3000.0\n",
       "9   Argentina  1998      7100.0  3000.0\n",
       "10  Argentina  1999      7000.0  2700.0\n",
       "11  Argentina  2000      7300.0  2800.0\n",
       "12  Argentina  2001      7400.0  2800.0\n",
       "13  Argentina  2002      7500.0  2900.0\n",
       "14  Argentina  2003      7600.0  3100.0\n",
       "15  Argentina  2004      7700.0  3200.0\n",
       "16  Argentina  2005      7700.0  3200.0\n",
       "17  Argentina  2006      7600.0  3200.0\n",
       "18  Argentina  2007      7500.0  3000.0\n",
       "19  Argentina  2008      7500.0  2900.0\n",
       "20  Argentina  2009         NaN     NaN\n",
       "21  Argentina  2010      5600.0     NaN"
      ]
     },
     "metadata": {},
     "output_type": "display_data"
    }
   ],
   "source": [
    "# Filtrando os Dataframes e renomeando colunas.\n",
    "morteporhiv = morteporhiv[(morteporhiv.country == 'Argentina')]\n",
    "morteporhiv = pd.melt(morteporhiv, id_vars=['country'])\n",
    "morteporhiv = morteporhiv.rename(columns={'variable':'year', 'value':'mortes'})\n",
    "\n",
    "infectadosporhiv = infectadosporhiv[(infectadosporhiv.country == 'Argentina')]\n",
    "infectadosporhiv = pd.melt(infectadosporhiv, id_vars=['country'])\n",
    "infectadosporhiv = infectadosporhiv.rename(columns={'variable':'year', 'value':'infectados'})\n",
    "\n",
    "\n",
    "# Mesclanco os Dataframes.\n",
    "dadoshiv = pd.merge(infectadosporhiv,morteporhiv,on=['country','year'])\n",
    "\n",
    "\n",
    "# Substituindo dados e modificando o tipo de dados das colunas. \n",
    "dadoshiv['mortes'] = dadoshiv['mortes'].apply(lambda x: str(x).replace('k','000'))\n",
    "dadoshiv['mortes'] = dadoshiv['mortes'].astype('float')\n",
    "\n",
    "dadoshiv['infectados'] = dadoshiv['infectados'].apply(lambda x: str(x).replace('k','000'))\n",
    "dadoshiv['infectados'] = dadoshiv['infectados'].astype('float')\n",
    "\n",
    "\n",
    "dadoshiv['year'] = dadoshiv['year'].astype('int')\n",
    "\n",
    "display(dadoshiv)"
   ]
  },
  {
   "cell_type": "markdown",
   "metadata": {},
   "source": [
    "### 4° PASSO - RESPONDENDO 4 PERGUNTAS"
   ]
  },
  {
   "cell_type": "markdown",
   "metadata": {},
   "source": [
    "#### 1° Pergunta: Qual a média de mortes por HIV na Argentina nos ultimos 10 anos?"
   ]
  },
  {
   "cell_type": "code",
   "execution_count": 109,
   "metadata": {},
   "outputs": [
    {
     "name": "stdout",
     "output_type": "stream",
     "text": [
      "A média dos ultimos 10 anos de mortes por HIV na Argentina é de 2430.0 mortes por ano.\n"
     ]
    }
   ],
   "source": [
    "maiorano = dadoshiv['year'].max()\n",
    "\n",
    "dadoshivnovo = dadoshiv.set_index('year') #Transformando a coluna ano no indice do dataframe.\n",
    "\n",
    "anos = []\n",
    "for ano in range(maiorano-9, maiorano+1):\n",
    "    if dadoshivnovo.loc[ano, 'mortes'] == dadoshivnovo.loc[ano, 'mortes']: #Utilizando a propriedade que NaN não é igual a si mesma.\n",
    "        anos.append(dadoshivnovo.loc[ano, 'mortes']) \n",
    "\n",
    "mediademortes = sum(anos)/10  \n",
    "\n",
    "print(f'A média dos ultimos 10 anos de mortes por HIV na Argentina é de {mediademortes} mortes por ano.')\n"
   ]
  },
  {
   "cell_type": "markdown",
   "metadata": {},
   "source": [
    "#### 2° Pergunta: Qual o ano que tivemos o menor número de infectados por HIV?"
   ]
  },
  {
   "cell_type": "code",
   "execution_count": 110,
   "metadata": {},
   "outputs": [
    {
     "name": "stdout",
     "output_type": "stream",
     "text": [
      " O ano de 1989 foi o ano com menor número de infectados por HIV na Argentiva\n"
     ]
    }
   ],
   "source": [
    "dadoshivnovo2 = dadoshiv.sort_values('infectados')\n",
    "AnoComMenosInfectados = (dadoshivnovo2['year'][0])\n",
    "\n",
    "print(f' O ano de {AnoComMenosInfectados} foi o ano com menor número de infectados por HIV na Argentiva')"
   ]
  },
  {
   "cell_type": "markdown",
   "metadata": {},
   "source": [
    "#### 3° Pergunta: Qual a porcentagem de mortes dos infectados no ano de 2007?"
   ]
  },
  {
   "cell_type": "code",
   "execution_count": 111,
   "metadata": {},
   "outputs": [
    {
     "name": "stdout",
     "output_type": "stream",
     "text": [
      "A taxa de morte de infectados por HIV no ano de 2007 na Argentina foi de 40%.\n"
     ]
    }
   ],
   "source": [
    "dadoshivnovo3 = dadoshiv[(dadoshiv.year == 2007)]\n",
    "\n",
    "infectados = dadoshivnovo3['infectados'].sum()\n",
    "mortes = dadoshivnovo3['mortes'].sum()\n",
    "\n",
    "taxamorte = mortes/infectados\n",
    "\n",
    "print('A taxa de morte de infectados por HIV no ano de 2007 na Argentina foi de {:.0%}.'.format(taxamorte))"
   ]
  },
  {
   "cell_type": "markdown",
   "metadata": {},
   "source": [
    "#### 4° Pergunta: Plote um gráfico e analise a relação entre mortes e infectados por HIV?"
   ]
  },
  {
   "cell_type": "code",
   "execution_count": 112,
   "metadata": {},
   "outputs": [
    {
     "data": {
      "image/png": "[encoded data removed]",
      "text/plain": [
       "<Figure size 864x432 with 1 Axes>"
      ]
     },
     "metadata": {
      "needs_background": "light"
     },
     "output_type": "display_data"
    },
    {
     "name": "stdout",
     "output_type": "stream",
     "text": [
      "        Analisando o gráfico o número de mortes é sempre menor que o número de infectados, \n",
      "nos 5 primeiros anos a mortalidade subiu junto com a taxa de infectados, porém a partir do \n",
      "6° ano verificamos que o número de infectados continuou a subir porém, o número de mortes \n",
      "diminuiu, esse fato pode ser explicado pelo avanço e descoberta novos medicamentos \n",
      "mais eficazes contra HIV.\n"
     ]
    }
   ],
   "source": [
    "plt.figure(figsize=(12,6))\n",
    "\n",
    "sns.lineplot(x=dadoshiv.year, y=dadoshiv.infectados, label='Infectados')\n",
    "sns.lineplot(x=dadoshiv.year, y=dadoshiv.mortes, label='Mortes')\n",
    "\n",
    "plt.title('Argentina: Infectados x Mortes por HIV', fontsize=14)\n",
    "plt.legend()\n",
    "plt.xticks(rotation=90)\n",
    "plt.show()\n",
    "\n",
    "print('''        Analisando o gráfico o número de mortes é sempre menor que o número de infectados, \n",
    "nos 5 primeiros anos a mortalidade subiu junto com a taxa de infectados, porém a partir do \n",
    "6° ano verificamos que o número de infectados continuou a subir porém, o número de mortes \n",
    "diminuiu, esse fato pode ser explicado pelo avanço e descoberta novos medicamentos \n",
    "mais eficazes contra HIV.''')"
   ]
  }
 ],
 "metadata": {
  "kernelspec": {
   "display_name": "Python 3",
   "language": "python",
   "name": "python3"
  },
  "language_info": {
   "codemirror_mode": {
    "name": "ipython",
    "version": 3
   },
   "file_extension": ".py",
   "mimetype": "text/x-python",
   "name": "python",
   "nbconvert_exporter": "python",
   "pygments_lexer": "ipython3",
   "version": "3.8.3"
  }
 },
 "nbformat": 4,
 "nbformat_minor": 4
}
